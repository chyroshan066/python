{
 "cells": [
  {
   "cell_type": "code",
   "execution_count": 1,
   "id": "78b56e6a-6b0f-45b5-860b-73f4e74aa8a0",
   "metadata": {},
   "outputs": [],
   "source": [
    "import numpy as np"
   ]
  },
  {
   "cell_type": "code",
   "execution_count": 2,
   "id": "8b39711e-ca7f-4ddd-84b0-4f30526f60be",
   "metadata": {},
   "outputs": [
    {
     "data": {
      "text/plain": [
       "array([1, 2, 3, 4, 5])"
      ]
     },
     "execution_count": 2,
     "metadata": {},
     "output_type": "execute_result"
    }
   ],
   "source": [
    "myarr = np.array([1, 2, 3, 4, 5])  # Creating NumPy array\n",
    "\n",
    "myarr"
   ]
  },
  {
   "cell_type": "code",
   "execution_count": 3,
   "id": "fc7bd311-a91b-4472-999e-516ec2a9a80f",
   "metadata": {},
   "outputs": [
    {
     "data": {
      "text/plain": [
       "array([[1, 2, 3, 4, 5]], dtype=int8)"
      ]
     },
     "execution_count": 3,
     "metadata": {},
     "output_type": "execute_result"
    }
   ],
   "source": [
    "myarr2 = np.array([[1, 2, 3, 4, 5]], np.int8)  # Specifying the number of bytes that the array element can have. In this case 8 byte\n",
    "\n",
    "myarr2"
   ]
  },
  {
   "cell_type": "code",
   "execution_count": 4,
   "id": "58fa64f5-5c50-4ebf-8925-8e2b4a1ea6a4",
   "metadata": {},
   "outputs": [
    {
     "data": {
      "text/plain": [
       "np.int64(1)"
      ]
     },
     "execution_count": 4,
     "metadata": {},
     "output_type": "execute_result"
    }
   ],
   "source": [
    "myarr[0]  # Acessing elements of 1-D Array"
   ]
  },
  {
   "cell_type": "code",
   "execution_count": 5,
   "id": "87cb664a-fce4-43c9-90a2-fce25f71d014",
   "metadata": {},
   "outputs": [
    {
     "data": {
      "text/plain": [
       "np.int8(2)"
      ]
     },
     "execution_count": 5,
     "metadata": {},
     "output_type": "execute_result"
    }
   ],
   "source": [
    "# myarr[0, 0]  # Acessing elements of 2-D Array\n",
    "myarr2[0][1]  # Another way of accessing elements of 2-D array"
   ]
  },
  {
   "cell_type": "code",
   "execution_count": 6,
   "id": "083f7d29-f800-4d90-9158-8b09d7fae92c",
   "metadata": {},
   "outputs": [
    {
     "data": {
      "text/plain": [
       "1"
      ]
     },
     "execution_count": 6,
     "metadata": {},
     "output_type": "execute_result"
    }
   ],
   "source": [
    "myarr.ndim  # Checking Array dimensions\n"
   ]
  },
  {
   "cell_type": "code",
   "execution_count": 7,
   "id": "d31807f1-0258-4905-926b-f92b569d2c89",
   "metadata": {},
   "outputs": [
    {
     "data": {
      "text/plain": [
       "2"
      ]
     },
     "execution_count": 7,
     "metadata": {},
     "output_type": "execute_result"
    }
   ],
   "source": [
    "myarr2.ndim"
   ]
  },
  {
   "cell_type": "code",
   "execution_count": 8,
   "id": "8c5d79d3-01ba-4d62-97f1-182d37706ac1",
   "metadata": {},
   "outputs": [
    {
     "data": {
      "text/plain": [
       "array([[[[[2, 4, 6, 8]]]]])"
      ]
     },
     "execution_count": 8,
     "metadata": {},
     "output_type": "execute_result"
    }
   ],
   "source": [
    "myarr3 = np.array([2, 4, 6, 8], ndmin=5)  # Defining the number of dimensions in array using \"ndmin\" argument\n",
    "\n",
    "myarr3"
   ]
  },
  {
   "cell_type": "code",
   "execution_count": 9,
   "id": "d139790a-9034-4d96-9a56-9f3bf507271e",
   "metadata": {},
   "outputs": [
    {
     "data": {
      "text/plain": [
       "5"
      ]
     },
     "execution_count": 9,
     "metadata": {},
     "output_type": "execute_result"
    }
   ],
   "source": [
    "myarr3.ndim"
   ]
  },
  {
   "cell_type": "code",
   "execution_count": 10,
   "id": "be82f33c-a7e0-4b76-ae3b-6ae4484d4f21",
   "metadata": {},
   "outputs": [
    {
     "data": {
      "text/plain": [
       "array([1, 3, 5])"
      ]
     },
     "execution_count": 10,
     "metadata": {},
     "output_type": "execute_result"
    }
   ],
   "source": [
    "# myarr[1:4]  # First parameter specifies start position, second parameter specifies stop position\n",
    "# myarr[:]  # When start and end position is not specified then it returns all\n",
    "# myarr[:4]\n",
    "# myarr[1:]\n",
    "myarr[::2]  # Third parameter specifies step"
   ]
  },
  {
   "cell_type": "code",
   "execution_count": 11,
   "id": "d9ee8cd5-addf-4e0e-a60b-d503d533d229",
   "metadata": {},
   "outputs": [
    {
     "data": {
      "text/plain": [
       "array([12, 13])"
      ]
     },
     "execution_count": 11,
     "metadata": {},
     "output_type": "execute_result"
    }
   ],
   "source": [
    "arr = np.array([\n",
    "    [1, 2, 3],\n",
    "    [11, 12, 13],\n",
    "    [21, 22, 23],\n",
    "    [31, 32, 33]\n",
    "])\n",
    "# arr[1]\n",
    "# arr[::]\n",
    "# arr[1][1:3]  # First square bracket for rows and second square bracket for column\n",
    "arr[1][1:5]  # Even though column specified goes beyond the range it doesn't give any error"
   ]
  },
  {
   "cell_type": "code",
   "execution_count": 12,
   "id": "827b7236-17d9-4f25-8a3d-403b60cf9724",
   "metadata": {},
   "outputs": [
    {
     "data": {
      "text/plain": [
       "dtype('<U32')"
      ]
     },
     "execution_count": 12,
     "metadata": {},
     "output_type": "execute_result"
    }
   ],
   "source": [
    "arr2 = np.array([\"Roshan\", \"Rahul\", \"Rakesh\", 1, 2, 1.1, 2.2])\n",
    "\n",
    "arr2.dtype  # Returns the data type of the array"
   ]
  },
  {
   "cell_type": "code",
   "execution_count": 13,
   "id": "9190579d-40b2-4eae-aa8e-67cc5c0328cc",
   "metadata": {},
   "outputs": [
    {
     "name": "stdout",
     "output_type": "stream",
     "text": [
      "|S1\n"
     ]
    }
   ],
   "source": [
    "arr3 = np.array([1, 2, 3, 4, 5], dtype='S')  # Creating arrays with defined data types\n",
    "\n",
    "print(arr3.dtype)"
   ]
  },
  {
   "cell_type": "code",
   "execution_count": 14,
   "id": "2f3caa06-500d-42b4-82a0-2e00f68a79c1",
   "metadata": {},
   "outputs": [
    {
     "name": "stdout",
     "output_type": "stream",
     "text": [
      "float64\n"
     ]
    }
   ],
   "source": [
    "# newarr = np.float16(arr3)  # Converting numpy array data type using functions\n",
    "newarr = arr3.astype(float)  # Converting numpy array data type using \"astype()\" function\n",
    "\n",
    "print(newarr.dtype)"
   ]
  },
  {
   "cell_type": "code",
   "execution_count": 15,
   "id": "020bb450-dee0-4b3a-b603-19771464c9c9",
   "metadata": {},
   "outputs": [
    {
     "name": "stdout",
     "output_type": "stream",
     "text": [
      "[ True False]\n"
     ]
    }
   ],
   "source": [
    "check = np.array([-1, 0])\n",
    "ansCheck = check.astype(bool)\n",
    "print(ansCheck)"
   ]
  },
  {
   "cell_type": "code",
   "execution_count": 16,
   "id": "712e6b95-0695-48c1-b56e-ac0962cbe683",
   "metadata": {},
   "outputs": [
    {
     "name": "stdout",
     "output_type": "stream",
     "text": [
      "['0' '0' '0']\n",
      "['Roshan' 'Rahul' 'Rakesh' '1' '2' '1.1' '2.2']\n"
     ]
    }
   ],
   "source": [
    "# x = arr2[3:6]  # Default method is view (i.e; \"arr2.view()\"  ). Changes is also made in original array in case of \"view()\"\n",
    "x = arr2[3:6].copy()  # Changes is not made in original array in case of \"copy()\"\n",
    "x[:] = 0  \n",
    "print(x)\n",
    "print(arr2)"
   ]
  },
  {
   "cell_type": "code",
   "execution_count": 17,
   "id": "400056db-a0aa-4403-a135-3c148be19882",
   "metadata": {},
   "outputs": [
    {
     "name": "stdout",
     "output_type": "stream",
     "text": [
      "(1, 1, 1, 1, 4)\n",
      "(1, 5)\n"
     ]
    }
   ],
   "source": [
    "print(myarr3.shape)  # Returns a tuple with each index having the number of corresponding elements\n",
    "print(myarr2.shape) "
   ]
  },
  {
   "cell_type": "code",
   "execution_count": 18,
   "id": "679358de-8eb1-44c6-9172-d7434a34ed62",
   "metadata": {},
   "outputs": [
    {
     "name": "stdout",
     "output_type": "stream",
     "text": [
      "[1 2 3 4 5 6 7 8]\n",
      "\n",
      "[[1 2 3 4]\n",
      " [5 6 7 8]]\n",
      "\n",
      "[[1 2]\n",
      " [3 4]\n",
      " [5 6]\n",
      " [7 8]]\n",
      "\n",
      "[[1]\n",
      " [2]\n",
      " [3]\n",
      " [4]\n",
      " [5]\n",
      " [6]\n",
      " [7]\n",
      " [8]]\n"
     ]
    }
   ],
   "source": [
    "arr4 = np.array([1, 2, 3, 4, 5, 6, 7, 8])\n",
    "# x = arr4.reshape(2, 4)  # Changes from 1 dimensional to 2 dimensional array\n",
    "# x = arr4.reshape(2, 5)  # Generates error if elements required for reshaping and actual elements are not equal\n",
    "x = arr4.reshape(2, 2, 2)  # Changes from 1 dimensional to 3 dimensional array\n",
    "y = x.reshape(-1)  # Changes to 1-dimensional array. It returns the view of the original array so, the changes made in the new array affects the original array.\n",
    "print(arr4)\n",
    "print()\n",
    "# print(x)\n",
    "# print(y)\n",
    "print(arr4.reshape(-1, 4))  # Numpy will assign one of the dimension. Here \"-1\" is the unknown dimension\n",
    "print()\n",
    "print(arr4.reshape(-1, 2))\n",
    "# print(arr4.reshape(-1, -1))  # We cannot pass two unknown dimension\n",
    "print()\n",
    "print(arr4.reshape(-1, 1))"
   ]
  },
  {
   "cell_type": "code",
   "execution_count": 19,
   "id": "07e8de2c-4a24-4e51-9e8b-d78fe0d363fe",
   "metadata": {},
   "outputs": [
    {
     "name": "stdout",
     "output_type": "stream",
     "text": [
      "[[0 1 2]\n",
      " [3 4 5]]\n",
      "\n",
      "[0 1 2 3 4 5]\n",
      "\n",
      "[[0 1 2]\n",
      " [3 4 5]]\n",
      "\n",
      "[ 0  1 25  3  4  5]\n"
     ]
    }
   ],
   "source": [
    "a1 = np.arange(6).reshape(2, 3)   \n",
    "print(a1)\n",
    "print()\n",
    "b1 = a1.flatten()  # Changes any dimensional array into 1-dimension.\n",
    "print(b1)\n",
    "print()\n",
    "b1[2] = 25\n",
    "print(a1)  # \"flatten()\" returns the copy of the original array. So, the changes made in the new array does not affect the original array.\n",
    "print()\n",
    "print(b1)"
   ]
  },
  {
   "cell_type": "code",
   "execution_count": 20,
   "id": "4688acdf-fde1-454c-acd7-6c6af181318e",
   "metadata": {},
   "outputs": [
    {
     "name": "stdout",
     "output_type": "stream",
     "text": [
      "[[0 1 2]\n",
      " [3 4 5]]\n",
      "\n",
      "[0 1 2 3 4 5]\n",
      "\n",
      "[[ 0  1 25]\n",
      " [ 3  4  5]]\n",
      "\n",
      "[ 0  1 25  3  4  5]\n"
     ]
    }
   ],
   "source": [
    "a2 = np.arange(6).reshape(2, 3)   \n",
    "print(a2)\n",
    "print()\n",
    "b2 = a2.ravel()  # Changes any dimensional array into 1-dimension.\n",
    "print(b2)\n",
    "print()\n",
    "b2[2] = 25\n",
    "print(a2)  # \"ravel()\" returns the view of the original array. So, the changes made in the new array affects the original array.\n",
    "print()\n",
    "print(b2)"
   ]
  },
  {
   "cell_type": "code",
   "execution_count": 21,
   "id": "00b148b9-46e7-49c6-881a-7bbd18fcf97b",
   "metadata": {},
   "outputs": [
    {
     "name": "stdout",
     "output_type": "stream",
     "text": [
      "[[ 0  1 25]\n",
      " [ 3  4  5]]\n",
      "\n",
      "[[ 3  4  5]\n",
      " [ 0  1 25]]\n"
     ]
    }
   ],
   "source": [
    "print(a2)\n",
    "# b3 = np.flip(a2)  # Reverses the order of the array\n",
    "# b3 = np.fliplr(a2)  # Reverses the order of column while keeping the rows preserved\n",
    "b3 = np.flipud(a2)  # Reverses the order of rows while keeping the columns preserved\n",
    "print()\n",
    "print(b3)"
   ]
  },
  {
   "cell_type": "code",
   "execution_count": null,
   "id": "204a5750-b703-416f-81c9-e027de9689e9",
   "metadata": {},
   "outputs": [],
   "source": []
  },
  {
   "cell_type": "code",
   "execution_count": null,
   "id": "fb4c18f0-26c1-4a44-b3c2-84689d7f21d0",
   "metadata": {},
   "outputs": [],
   "source": []
  }
 ],
 "metadata": {
  "kernelspec": {
   "display_name": "Python 3 (ipykernel)",
   "language": "python",
   "name": "python3"
  },
  "language_info": {
   "codemirror_mode": {
    "name": "ipython",
    "version": 3
   },
   "file_extension": ".py",
   "mimetype": "text/x-python",
   "name": "python",
   "nbconvert_exporter": "python",
   "pygments_lexer": "ipython3",
   "version": "3.13.0"
  }
 },
 "nbformat": 4,
 "nbformat_minor": 5
}
